{
  "nbformat": 4,
  "nbformat_minor": 0,
  "metadata": {
    "colab": {
      "name": "Untitled13.ipynb",
      "provenance": []
    },
    "kernelspec": {
      "name": "python3",
      "display_name": "Python 3"
    }
  },
  "cells": [
    {
      "cell_type": "code",
      "metadata": {
        "id": "I4dt7qCOs8Rw",
        "colab_type": "code",
        "colab": {}
      },
      "source": [
        "import numpy as np\n",
        "import pandas as pd\n",
        "import matplotlib.pyplot as plt\n",
        "import seaborn as sns\n",
        "from sklearn.model_selection import train_test_split "
      ],
      "execution_count": 0,
      "outputs": []
    },
    {
      "cell_type": "code",
      "metadata": {
        "id": "7sEVba5ftef9",
        "colab_type": "code",
        "colab": {
          "base_uri": "https://localhost:8080/",
          "height": 226
        },
        "outputId": "dc3ce5f6-2c6e-498d-ff17-d4137dd00f3e"
      },
      "source": [
        "data=pd.read_excel('/content/credit card fraud detection.xlsx')\n",
        "data.head()"
      ],
      "execution_count": 20,
      "outputs": [
        {
          "output_type": "execute_result",
          "data": {
            "text/html": [
              "<div>\n",
              "<style scoped>\n",
              "    .dataframe tbody tr th:only-of-type {\n",
              "        vertical-align: middle;\n",
              "    }\n",
              "\n",
              "    .dataframe tbody tr th {\n",
              "        vertical-align: top;\n",
              "    }\n",
              "\n",
              "    .dataframe thead th {\n",
              "        text-align: right;\n",
              "    }\n",
              "</style>\n",
              "<table border=\"1\" class=\"dataframe\">\n",
              "  <thead>\n",
              "    <tr style=\"text-align: right;\">\n",
              "      <th></th>\n",
              "      <th>Time</th>\n",
              "      <th>V1</th>\n",
              "      <th>V2</th>\n",
              "      <th>V3</th>\n",
              "      <th>V4</th>\n",
              "      <th>V5</th>\n",
              "      <th>V6</th>\n",
              "      <th>V7</th>\n",
              "      <th>V8</th>\n",
              "      <th>V9</th>\n",
              "      <th>V10</th>\n",
              "      <th>V11</th>\n",
              "      <th>V12</th>\n",
              "      <th>V13</th>\n",
              "      <th>V14</th>\n",
              "      <th>V15</th>\n",
              "      <th>V16</th>\n",
              "      <th>V17</th>\n",
              "      <th>V18</th>\n",
              "      <th>V19</th>\n",
              "      <th>V20</th>\n",
              "      <th>V21</th>\n",
              "      <th>V22</th>\n",
              "      <th>V23</th>\n",
              "      <th>V24</th>\n",
              "      <th>V25</th>\n",
              "      <th>V26</th>\n",
              "      <th>V27</th>\n",
              "      <th>V28</th>\n",
              "      <th>Amount</th>\n",
              "      <th>Class</th>\n",
              "    </tr>\n",
              "  </thead>\n",
              "  <tbody>\n",
              "    <tr>\n",
              "      <th>0</th>\n",
              "      <td>0</td>\n",
              "      <td>-1.359807</td>\n",
              "      <td>-0.072781</td>\n",
              "      <td>2.536347</td>\n",
              "      <td>1.378155</td>\n",
              "      <td>-0.338321</td>\n",
              "      <td>0.462388</td>\n",
              "      <td>0.239599</td>\n",
              "      <td>0.098698</td>\n",
              "      <td>0.363787</td>\n",
              "      <td>0.090794</td>\n",
              "      <td>-0.551600</td>\n",
              "      <td>-0.617801</td>\n",
              "      <td>-0.991390</td>\n",
              "      <td>-0.311169</td>\n",
              "      <td>1.468177</td>\n",
              "      <td>-0.470401</td>\n",
              "      <td>0.207971</td>\n",
              "      <td>0.025791</td>\n",
              "      <td>0.403993</td>\n",
              "      <td>0.251412</td>\n",
              "      <td>-0.018307</td>\n",
              "      <td>0.277838</td>\n",
              "      <td>-0.110474</td>\n",
              "      <td>0.066928</td>\n",
              "      <td>0.128539</td>\n",
              "      <td>-0.189115</td>\n",
              "      <td>0.133558</td>\n",
              "      <td>-0.021053</td>\n",
              "      <td>149.62</td>\n",
              "      <td>0</td>\n",
              "    </tr>\n",
              "    <tr>\n",
              "      <th>1</th>\n",
              "      <td>0</td>\n",
              "      <td>1.191857</td>\n",
              "      <td>0.266151</td>\n",
              "      <td>0.166480</td>\n",
              "      <td>0.448154</td>\n",
              "      <td>0.060018</td>\n",
              "      <td>-0.082361</td>\n",
              "      <td>-0.078803</td>\n",
              "      <td>0.085102</td>\n",
              "      <td>-0.255425</td>\n",
              "      <td>-0.166974</td>\n",
              "      <td>1.612727</td>\n",
              "      <td>1.065235</td>\n",
              "      <td>0.489095</td>\n",
              "      <td>-0.143772</td>\n",
              "      <td>0.635558</td>\n",
              "      <td>0.463917</td>\n",
              "      <td>-0.114805</td>\n",
              "      <td>-0.183361</td>\n",
              "      <td>-0.145783</td>\n",
              "      <td>-0.069083</td>\n",
              "      <td>-0.225775</td>\n",
              "      <td>-0.638672</td>\n",
              "      <td>0.101288</td>\n",
              "      <td>-0.339846</td>\n",
              "      <td>0.167170</td>\n",
              "      <td>0.125895</td>\n",
              "      <td>-0.008983</td>\n",
              "      <td>0.014724</td>\n",
              "      <td>2.69</td>\n",
              "      <td>0</td>\n",
              "    </tr>\n",
              "    <tr>\n",
              "      <th>2</th>\n",
              "      <td>1</td>\n",
              "      <td>-1.358354</td>\n",
              "      <td>-1.340163</td>\n",
              "      <td>1.773209</td>\n",
              "      <td>0.379780</td>\n",
              "      <td>-0.503198</td>\n",
              "      <td>1.800499</td>\n",
              "      <td>0.791461</td>\n",
              "      <td>0.247676</td>\n",
              "      <td>-1.514654</td>\n",
              "      <td>0.207643</td>\n",
              "      <td>0.624501</td>\n",
              "      <td>0.066084</td>\n",
              "      <td>0.717293</td>\n",
              "      <td>-0.165946</td>\n",
              "      <td>2.345865</td>\n",
              "      <td>-2.890083</td>\n",
              "      <td>1.109969</td>\n",
              "      <td>-0.121359</td>\n",
              "      <td>-2.261857</td>\n",
              "      <td>0.524980</td>\n",
              "      <td>0.247998</td>\n",
              "      <td>0.771679</td>\n",
              "      <td>0.909412</td>\n",
              "      <td>-0.689281</td>\n",
              "      <td>-0.327642</td>\n",
              "      <td>-0.139097</td>\n",
              "      <td>-0.055353</td>\n",
              "      <td>-0.059752</td>\n",
              "      <td>378.66</td>\n",
              "      <td>0</td>\n",
              "    </tr>\n",
              "    <tr>\n",
              "      <th>3</th>\n",
              "      <td>1</td>\n",
              "      <td>-0.966272</td>\n",
              "      <td>-0.185226</td>\n",
              "      <td>1.792993</td>\n",
              "      <td>-0.863291</td>\n",
              "      <td>-0.010309</td>\n",
              "      <td>1.247203</td>\n",
              "      <td>0.237609</td>\n",
              "      <td>0.377436</td>\n",
              "      <td>-1.387024</td>\n",
              "      <td>-0.054952</td>\n",
              "      <td>-0.226487</td>\n",
              "      <td>0.178228</td>\n",
              "      <td>0.507757</td>\n",
              "      <td>-0.287924</td>\n",
              "      <td>-0.631418</td>\n",
              "      <td>-1.059647</td>\n",
              "      <td>-0.684093</td>\n",
              "      <td>1.965775</td>\n",
              "      <td>-1.232622</td>\n",
              "      <td>-0.208038</td>\n",
              "      <td>-0.108300</td>\n",
              "      <td>0.005274</td>\n",
              "      <td>-0.190321</td>\n",
              "      <td>-1.175575</td>\n",
              "      <td>0.647376</td>\n",
              "      <td>-0.221929</td>\n",
              "      <td>0.062723</td>\n",
              "      <td>0.061458</td>\n",
              "      <td>123.50</td>\n",
              "      <td>0</td>\n",
              "    </tr>\n",
              "    <tr>\n",
              "      <th>4</th>\n",
              "      <td>2</td>\n",
              "      <td>-1.158233</td>\n",
              "      <td>0.877737</td>\n",
              "      <td>1.548718</td>\n",
              "      <td>0.403034</td>\n",
              "      <td>-0.407193</td>\n",
              "      <td>0.095921</td>\n",
              "      <td>0.592941</td>\n",
              "      <td>-0.270533</td>\n",
              "      <td>0.817739</td>\n",
              "      <td>0.753074</td>\n",
              "      <td>-0.822843</td>\n",
              "      <td>0.538196</td>\n",
              "      <td>1.345852</td>\n",
              "      <td>-1.119670</td>\n",
              "      <td>0.175121</td>\n",
              "      <td>-0.451449</td>\n",
              "      <td>-0.237033</td>\n",
              "      <td>-0.038195</td>\n",
              "      <td>0.803487</td>\n",
              "      <td>0.408542</td>\n",
              "      <td>-0.009431</td>\n",
              "      <td>0.798278</td>\n",
              "      <td>-0.137458</td>\n",
              "      <td>0.141267</td>\n",
              "      <td>-0.206010</td>\n",
              "      <td>0.502292</td>\n",
              "      <td>0.219422</td>\n",
              "      <td>0.215153</td>\n",
              "      <td>69.99</td>\n",
              "      <td>0</td>\n",
              "    </tr>\n",
              "  </tbody>\n",
              "</table>\n",
              "</div>"
            ],
            "text/plain": [
              "   Time        V1        V2        V3  ...       V27       V28  Amount  Class\n",
              "0     0 -1.359807 -0.072781  2.536347  ...  0.133558 -0.021053  149.62      0\n",
              "1     0  1.191857  0.266151  0.166480  ... -0.008983  0.014724    2.69      0\n",
              "2     1 -1.358354 -1.340163  1.773209  ... -0.055353 -0.059752  378.66      0\n",
              "3     1 -0.966272 -0.185226  1.792993  ...  0.062723  0.061458  123.50      0\n",
              "4     2 -1.158233  0.877737  1.548718  ...  0.219422  0.215153   69.99      0\n",
              "\n",
              "[5 rows x 31 columns]"
            ]
          },
          "metadata": {
            "tags": []
          },
          "execution_count": 20
        }
      ]
    },
    {
      "cell_type": "code",
      "metadata": {
        "id": "Nt4tinkKtrkO",
        "colab_type": "code",
        "colab": {
          "base_uri": "https://localhost:8080/",
          "height": 320
        },
        "outputId": "05e13cbe-4266-45bb-db9f-b2faa4e53627"
      },
      "source": [
        "data.describe()"
      ],
      "execution_count": 21,
      "outputs": [
        {
          "output_type": "execute_result",
          "data": {
            "text/html": [
              "<div>\n",
              "<style scoped>\n",
              "    .dataframe tbody tr th:only-of-type {\n",
              "        vertical-align: middle;\n",
              "    }\n",
              "\n",
              "    .dataframe tbody tr th {\n",
              "        vertical-align: top;\n",
              "    }\n",
              "\n",
              "    .dataframe thead th {\n",
              "        text-align: right;\n",
              "    }\n",
              "</style>\n",
              "<table border=\"1\" class=\"dataframe\">\n",
              "  <thead>\n",
              "    <tr style=\"text-align: right;\">\n",
              "      <th></th>\n",
              "      <th>Time</th>\n",
              "      <th>V1</th>\n",
              "      <th>V2</th>\n",
              "      <th>V3</th>\n",
              "      <th>V4</th>\n",
              "      <th>V5</th>\n",
              "      <th>V6</th>\n",
              "      <th>V7</th>\n",
              "      <th>V8</th>\n",
              "      <th>V9</th>\n",
              "      <th>V10</th>\n",
              "      <th>V11</th>\n",
              "      <th>V12</th>\n",
              "      <th>V13</th>\n",
              "      <th>V14</th>\n",
              "      <th>V15</th>\n",
              "      <th>V16</th>\n",
              "      <th>V17</th>\n",
              "      <th>V18</th>\n",
              "      <th>V19</th>\n",
              "      <th>V20</th>\n",
              "      <th>V21</th>\n",
              "      <th>V22</th>\n",
              "      <th>V23</th>\n",
              "      <th>V24</th>\n",
              "      <th>V25</th>\n",
              "      <th>V26</th>\n",
              "      <th>V27</th>\n",
              "      <th>V28</th>\n",
              "      <th>Amount</th>\n",
              "      <th>Class</th>\n",
              "    </tr>\n",
              "  </thead>\n",
              "  <tbody>\n",
              "    <tr>\n",
              "      <th>count</th>\n",
              "      <td>663.000000</td>\n",
              "      <td>663.000000</td>\n",
              "      <td>663.000000</td>\n",
              "      <td>663.000000</td>\n",
              "      <td>663.000000</td>\n",
              "      <td>663.000000</td>\n",
              "      <td>663.000000</td>\n",
              "      <td>663.000000</td>\n",
              "      <td>663.000000</td>\n",
              "      <td>663.000000</td>\n",
              "      <td>663.000000</td>\n",
              "      <td>663.000000</td>\n",
              "      <td>663.000000</td>\n",
              "      <td>663.000000</td>\n",
              "      <td>663.000000</td>\n",
              "      <td>663.000000</td>\n",
              "      <td>663.000000</td>\n",
              "      <td>663.000000</td>\n",
              "      <td>663.000000</td>\n",
              "      <td>663.000000</td>\n",
              "      <td>663.000000</td>\n",
              "      <td>663.000000</td>\n",
              "      <td>663.000000</td>\n",
              "      <td>663.000000</td>\n",
              "      <td>663.000000</td>\n",
              "      <td>663.000000</td>\n",
              "      <td>663.000000</td>\n",
              "      <td>663.000000</td>\n",
              "      <td>663.000000</td>\n",
              "      <td>663.000000</td>\n",
              "      <td>663.000000</td>\n",
              "    </tr>\n",
              "    <tr>\n",
              "      <th>mean</th>\n",
              "      <td>240.723982</td>\n",
              "      <td>-0.173477</td>\n",
              "      <td>0.202923</td>\n",
              "      <td>0.868027</td>\n",
              "      <td>0.313785</td>\n",
              "      <td>0.004962</td>\n",
              "      <td>0.191067</td>\n",
              "      <td>0.120179</td>\n",
              "      <td>-0.057877</td>\n",
              "      <td>-0.021444</td>\n",
              "      <td>0.050286</td>\n",
              "      <td>0.116858</td>\n",
              "      <td>0.249529</td>\n",
              "      <td>-0.090262</td>\n",
              "      <td>-0.225652</td>\n",
              "      <td>0.241507</td>\n",
              "      <td>-0.160893</td>\n",
              "      <td>-0.066469</td>\n",
              "      <td>-0.166828</td>\n",
              "      <td>-0.003731</td>\n",
              "      <td>0.061676</td>\n",
              "      <td>0.011559</td>\n",
              "      <td>-0.101324</td>\n",
              "      <td>-0.039138</td>\n",
              "      <td>-0.001128</td>\n",
              "      <td>0.118359</td>\n",
              "      <td>0.023800</td>\n",
              "      <td>0.026277</td>\n",
              "      <td>-0.015521</td>\n",
              "      <td>70.339698</td>\n",
              "      <td>0.039216</td>\n",
              "    </tr>\n",
              "    <tr>\n",
              "      <th>std</th>\n",
              "      <td>147.066052</td>\n",
              "      <td>1.318746</td>\n",
              "      <td>1.195083</td>\n",
              "      <td>1.017452</td>\n",
              "      <td>1.268028</td>\n",
              "      <td>1.131101</td>\n",
              "      <td>1.248768</td>\n",
              "      <td>0.860575</td>\n",
              "      <td>0.828433</td>\n",
              "      <td>0.897497</td>\n",
              "      <td>0.989299</td>\n",
              "      <td>0.991818</td>\n",
              "      <td>0.653852</td>\n",
              "      <td>0.920248</td>\n",
              "      <td>0.833334</td>\n",
              "      <td>0.924211</td>\n",
              "      <td>0.811902</td>\n",
              "      <td>0.746183</td>\n",
              "      <td>0.773984</td>\n",
              "      <td>0.829345</td>\n",
              "      <td>0.602261</td>\n",
              "      <td>0.611034</td>\n",
              "      <td>0.609244</td>\n",
              "      <td>0.369201</td>\n",
              "      <td>0.628296</td>\n",
              "      <td>0.426569</td>\n",
              "      <td>0.468524</td>\n",
              "      <td>0.308202</td>\n",
              "      <td>0.291046</td>\n",
              "      <td>206.447777</td>\n",
              "      <td>0.194254</td>\n",
              "    </tr>\n",
              "    <tr>\n",
              "      <th>min</th>\n",
              "      <td>0.000000</td>\n",
              "      <td>-6.093248</td>\n",
              "      <td>-12.114213</td>\n",
              "      <td>-5.694973</td>\n",
              "      <td>-4.657545</td>\n",
              "      <td>-6.631951</td>\n",
              "      <td>-3.498447</td>\n",
              "      <td>-4.925568</td>\n",
              "      <td>-7.494658</td>\n",
              "      <td>-2.770089</td>\n",
              "      <td>-2.772272</td>\n",
              "      <td>-2.332011</td>\n",
              "      <td>-2.899907</td>\n",
              "      <td>-2.656601</td>\n",
              "      <td>-6.576789</td>\n",
              "      <td>-3.618060</td>\n",
              "      <td>-3.205597</td>\n",
              "      <td>-5.400014</td>\n",
              "      <td>-2.830035</td>\n",
              "      <td>-3.463993</td>\n",
              "      <td>-2.538941</td>\n",
              "      <td>-4.134608</td>\n",
              "      <td>-2.776923</td>\n",
              "      <td>-3.553381</td>\n",
              "      <td>-1.867208</td>\n",
              "      <td>-1.389079</td>\n",
              "      <td>-1.243924</td>\n",
              "      <td>-2.377933</td>\n",
              "      <td>-2.735623</td>\n",
              "      <td>0.000000</td>\n",
              "      <td>0.000000</td>\n",
              "    </tr>\n",
              "    <tr>\n",
              "      <th>25%</th>\n",
              "      <td>105.000000</td>\n",
              "      <td>-0.901810</td>\n",
              "      <td>-0.174201</td>\n",
              "      <td>0.312139</td>\n",
              "      <td>-0.436332</td>\n",
              "      <td>-0.552683</td>\n",
              "      <td>-0.613937</td>\n",
              "      <td>-0.324460</td>\n",
              "      <td>-0.157950</td>\n",
              "      <td>-0.517152</td>\n",
              "      <td>-0.371514</td>\n",
              "      <td>-0.610265</td>\n",
              "      <td>-0.180758</td>\n",
              "      <td>-0.734466</td>\n",
              "      <td>-0.452397</td>\n",
              "      <td>-0.295264</td>\n",
              "      <td>-0.622242</td>\n",
              "      <td>-0.487844</td>\n",
              "      <td>-0.609309</td>\n",
              "      <td>-0.521897</td>\n",
              "      <td>-0.159079</td>\n",
              "      <td>-0.219877</td>\n",
              "      <td>-0.528465</td>\n",
              "      <td>-0.172574</td>\n",
              "      <td>-0.384946</td>\n",
              "      <td>-0.160158</td>\n",
              "      <td>-0.313228</td>\n",
              "      <td>-0.045075</td>\n",
              "      <td>-0.015932</td>\n",
              "      <td>5.980000</td>\n",
              "      <td>0.000000</td>\n",
              "    </tr>\n",
              "    <tr>\n",
              "      <th>50%</th>\n",
              "      <td>241.000000</td>\n",
              "      <td>-0.376162</td>\n",
              "      <td>0.277666</td>\n",
              "      <td>0.897601</td>\n",
              "      <td>0.448154</td>\n",
              "      <td>-0.107492</td>\n",
              "      <td>-0.068701</td>\n",
              "      <td>0.117003</td>\n",
              "      <td>0.044961</td>\n",
              "      <td>-0.074016</td>\n",
              "      <td>-0.081320</td>\n",
              "      <td>0.008547</td>\n",
              "      <td>0.277192</td>\n",
              "      <td>-0.058954</td>\n",
              "      <td>-0.089114</td>\n",
              "      <td>0.368675</td>\n",
              "      <td>-0.076127</td>\n",
              "      <td>-0.090655</td>\n",
              "      <td>-0.168770</td>\n",
              "      <td>-0.035922</td>\n",
              "      <td>-0.013164</td>\n",
              "      <td>-0.070069</td>\n",
              "      <td>-0.069830</td>\n",
              "      <td>-0.045366</td>\n",
              "      <td>0.091900</td>\n",
              "      <td>0.145526</td>\n",
              "      <td>-0.015710</td>\n",
              "      <td>0.023011</td>\n",
              "      <td>0.022966</td>\n",
              "      <td>17.240000</td>\n",
              "      <td>0.000000</td>\n",
              "    </tr>\n",
              "    <tr>\n",
              "      <th>75%</th>\n",
              "      <td>366.000000</td>\n",
              "      <td>1.108861</td>\n",
              "      <td>0.877669</td>\n",
              "      <td>1.509547</td>\n",
              "      <td>1.140908</td>\n",
              "      <td>0.466815</td>\n",
              "      <td>0.490715</td>\n",
              "      <td>0.567376</td>\n",
              "      <td>0.262158</td>\n",
              "      <td>0.415102</td>\n",
              "      <td>0.273067</td>\n",
              "      <td>0.972925</td>\n",
              "      <td>0.720875</td>\n",
              "      <td>0.599551</td>\n",
              "      <td>0.260356</td>\n",
              "      <td>0.900168</td>\n",
              "      <td>0.378404</td>\n",
              "      <td>0.282177</td>\n",
              "      <td>0.268543</td>\n",
              "      <td>0.490066</td>\n",
              "      <td>0.166823</td>\n",
              "      <td>0.102520</td>\n",
              "      <td>0.311334</td>\n",
              "      <td>0.073547</td>\n",
              "      <td>0.429625</td>\n",
              "      <td>0.439774</td>\n",
              "      <td>0.263885</td>\n",
              "      <td>0.115571</td>\n",
              "      <td>0.087914</td>\n",
              "      <td>57.750000</td>\n",
              "      <td>0.000000</td>\n",
              "    </tr>\n",
              "    <tr>\n",
              "      <th>max</th>\n",
              "      <td>499.000000</td>\n",
              "      <td>1.586093</td>\n",
              "      <td>5.267376</td>\n",
              "      <td>3.772857</td>\n",
              "      <td>4.075817</td>\n",
              "      <td>7.672544</td>\n",
              "      <td>5.122103</td>\n",
              "      <td>4.808426</td>\n",
              "      <td>1.726413</td>\n",
              "      <td>5.459274</td>\n",
              "      <td>8.821756</td>\n",
              "      <td>3.202033</td>\n",
              "      <td>2.152055</td>\n",
              "      <td>2.142710</td>\n",
              "      <td>1.642575</td>\n",
              "      <td>2.501395</td>\n",
              "      <td>1.898748</td>\n",
              "      <td>3.986289</td>\n",
              "      <td>2.606244</td>\n",
              "      <td>2.862706</td>\n",
              "      <td>7.744222</td>\n",
              "      <td>5.273420</td>\n",
              "      <td>1.461535</td>\n",
              "      <td>3.150413</td>\n",
              "      <td>1.215279</td>\n",
              "      <td>1.136720</td>\n",
              "      <td>3.065576</td>\n",
              "      <td>2.490503</td>\n",
              "      <td>1.575380</td>\n",
              "      <td>3828.040000</td>\n",
              "      <td>1.000000</td>\n",
              "    </tr>\n",
              "  </tbody>\n",
              "</table>\n",
              "</div>"
            ],
            "text/plain": [
              "             Time          V1          V2  ...         V28       Amount       Class\n",
              "count  663.000000  663.000000  663.000000  ...  663.000000   663.000000  663.000000\n",
              "mean   240.723982   -0.173477    0.202923  ...   -0.015521    70.339698    0.039216\n",
              "std    147.066052    1.318746    1.195083  ...    0.291046   206.447777    0.194254\n",
              "min      0.000000   -6.093248  -12.114213  ...   -2.735623     0.000000    0.000000\n",
              "25%    105.000000   -0.901810   -0.174201  ...   -0.015932     5.980000    0.000000\n",
              "50%    241.000000   -0.376162    0.277666  ...    0.022966    17.240000    0.000000\n",
              "75%    366.000000    1.108861    0.877669  ...    0.087914    57.750000    0.000000\n",
              "max    499.000000    1.586093    5.267376  ...    1.575380  3828.040000    1.000000\n",
              "\n",
              "[8 rows x 31 columns]"
            ]
          },
          "metadata": {
            "tags": []
          },
          "execution_count": 21
        }
      ]
    },
    {
      "cell_type": "code",
      "metadata": {
        "id": "ktXLEPQktvvd",
        "colab_type": "code",
        "colab": {
          "base_uri": "https://localhost:8080/",
          "height": 106
        },
        "outputId": "c792236e-7bed-4553-b2f8-0c4ba85bcf69"
      },
      "source": [
        "data.columns"
      ],
      "execution_count": 22,
      "outputs": [
        {
          "output_type": "execute_result",
          "data": {
            "text/plain": [
              "Index(['Time', 'V1', 'V2', 'V3', 'V4', 'V5', 'V6', 'V7', 'V8', 'V9', 'V10',\n",
              "       'V11', 'V12', 'V13', 'V14', 'V15', 'V16', 'V17', 'V18', 'V19', 'V20',\n",
              "       'V21', 'V22', 'V23', 'V24', 'V25', 'V26', 'V27', 'V28', 'Amount',\n",
              "       'Class'],\n",
              "      dtype='object')"
            ]
          },
          "metadata": {
            "tags": []
          },
          "execution_count": 22
        }
      ]
    },
    {
      "cell_type": "code",
      "metadata": {
        "id": "AMf6UG1SuDLY",
        "colab_type": "code",
        "colab": {
          "base_uri": "https://localhost:8080/",
          "height": 35
        },
        "outputId": "068d19e2-2a81-4fa7-eaaf-01ba7565ba81"
      },
      "source": [
        "data.shape"
      ],
      "execution_count": 23,
      "outputs": [
        {
          "output_type": "execute_result",
          "data": {
            "text/plain": [
              "(663, 31)"
            ]
          },
          "metadata": {
            "tags": []
          },
          "execution_count": 23
        }
      ]
    },
    {
      "cell_type": "code",
      "metadata": {
        "id": "gMdc8RZBvHvC",
        "colab_type": "code",
        "colab": {
          "base_uri": "https://localhost:8080/",
          "height": 1000
        },
        "outputId": "52f10d8d-5c50-44cc-b073-83e94e8c4985"
      },
      "source": [
        "data.hist(figsize=(20,20))"
      ],
      "execution_count": 24,
      "outputs": [
        {
          "output_type": "execute_result",
          "data": {
            "text/plain": [
              "array([[<matplotlib.axes._subplots.AxesSubplot object at 0x7fbfe898c0f0>,\n",
              "        <matplotlib.axes._subplots.AxesSubplot object at 0x7fbfe899dac8>,\n",
              "        <matplotlib.axes._subplots.AxesSubplot object at 0x7fbfe8869d30>,\n",
              "        <matplotlib.axes._subplots.AxesSubplot object at 0x7fbfe8891f98>,\n",
              "        <matplotlib.axes._subplots.AxesSubplot object at 0x7fbfe88432e8>,\n",
              "        <matplotlib.axes._subplots.AxesSubplot object at 0x7fbfe87e8860>],\n",
              "       [<matplotlib.axes._subplots.AxesSubplot object at 0x7fbfe8811dd8>,\n",
              "        <matplotlib.axes._subplots.AxesSubplot object at 0x7fbfe87c13c8>,\n",
              "        <matplotlib.axes._subplots.AxesSubplot object at 0x7fbfe87c1400>,\n",
              "        <matplotlib.axes._subplots.AxesSubplot object at 0x7fbfe8791e80>,\n",
              "        <matplotlib.axes._subplots.AxesSubplot object at 0x7fbfe873f438>,\n",
              "        <matplotlib.axes._subplots.AxesSubplot object at 0x7fbfe87679b0>],\n",
              "       [<matplotlib.axes._subplots.AxesSubplot object at 0x7fbfe8710f28>,\n",
              "        <matplotlib.axes._subplots.AxesSubplot object at 0x7fbfe86c04e0>,\n",
              "        <matplotlib.axes._subplots.AxesSubplot object at 0x7fbfe86e5a58>,\n",
              "        <matplotlib.axes._subplots.AxesSubplot object at 0x7fbfe868dfd0>,\n",
              "        <matplotlib.axes._subplots.AxesSubplot object at 0x7fbfe863d588>,\n",
              "        <matplotlib.axes._subplots.AxesSubplot object at 0x7fbfe8664b00>],\n",
              "       [<matplotlib.axes._subplots.AxesSubplot object at 0x7fbfe86150b8>,\n",
              "        <matplotlib.axes._subplots.AxesSubplot object at 0x7fbfe85bd630>,\n",
              "        <matplotlib.axes._subplots.AxesSubplot object at 0x7fbfe85e6ba8>,\n",
              "        <matplotlib.axes._subplots.AxesSubplot object at 0x7fbfe8595160>,\n",
              "        <matplotlib.axes._subplots.AxesSubplot object at 0x7fbfe853d6d8>,\n",
              "        <matplotlib.axes._subplots.AxesSubplot object at 0x7fbfe8563c50>],\n",
              "       [<matplotlib.axes._subplots.AxesSubplot object at 0x7fbfe8514208>,\n",
              "        <matplotlib.axes._subplots.AxesSubplot object at 0x7fbfe84b9780>,\n",
              "        <matplotlib.axes._subplots.AxesSubplot object at 0x7fbfe84e3cf8>,\n",
              "        <matplotlib.axes._subplots.AxesSubplot object at 0x7fbfe84912b0>,\n",
              "        <matplotlib.axes._subplots.AxesSubplot object at 0x7fbfe8438828>,\n",
              "        <matplotlib.axes._subplots.AxesSubplot object at 0x7fbfe8461da0>],\n",
              "       [<matplotlib.axes._subplots.AxesSubplot object at 0x7fbfe8411358>,\n",
              "        <matplotlib.axes._subplots.AxesSubplot object at 0x7fbfe83b78d0>,\n",
              "        <matplotlib.axes._subplots.AxesSubplot object at 0x7fbfe83e2e48>,\n",
              "        <matplotlib.axes._subplots.AxesSubplot object at 0x7fbfe8392400>,\n",
              "        <matplotlib.axes._subplots.AxesSubplot object at 0x7fbfe833a978>,\n",
              "        <matplotlib.axes._subplots.AxesSubplot object at 0x7fbfe8363ef0>]],\n",
              "      dtype=object)"
            ]
          },
          "metadata": {
            "tags": []
          },
          "execution_count": 24
        },
        {
          "output_type": "display_data",
          "data": {
            "image/png": "[encoded data removed]",
            "text/plain": [
              "<Figure size 1440x1440 with 36 Axes>"
            ]
          },
          "metadata": {
            "tags": []
          }
        }
      ]
    },
    {
      "cell_type": "code",
      "metadata": {
        "id": "j3bnK6GuvPj4",
        "colab_type": "code",
        "colab": {
          "base_uri": "https://localhost:8080/",
          "height": 71
        },
        "outputId": "41b30372-119b-4da2-ca79-494bf633ae8b"
      },
      "source": [
        "#fraud cases in data\n",
        "fraud=data[data['Class']==1]\n",
        "genuine=data[data['Class']==0]\n",
        "outlier_fration=len(fraud)/float(len(genuine))\n",
        "print('fraud:{}'.format(len(fraud)))\n",
        "print('genuine:{}'.format(len(genuine)))\n",
        "print(outlier_fration)"
      ],
      "execution_count": 25,
      "outputs": [
        {
          "output_type": "stream",
          "text": [
            "fraud:26\n",
            "genuine:637\n",
            "0.04081632653061224\n"
          ],
          "name": "stdout"
        }
      ]
    },
    {
      "cell_type": "code",
      "metadata": {
        "id": "UllNIU8Fw7Vk",
        "colab_type": "code",
        "colab": {
          "base_uri": "https://localhost:8080/",
          "height": 479
        },
        "outputId": "0e0b8872-5dd0-46aa-aa61-daecbc351ea7"
      },
      "source": [
        "#correlationmatrix\n",
        "corrmat=data.corr()\n",
        "fig=plt.figure(figsize=(12,7))\n",
        "sns.heatmap(corrmat,vmax=.8,square=True)\n",
        "plt.show"
      ],
      "execution_count": 26,
      "outputs": [
        {
          "output_type": "execute_result",
          "data": {
            "text/plain": [
              "<function matplotlib.pyplot.show>"
            ]
          },
          "metadata": {
            "tags": []
          },
          "execution_count": 26
        },
        {
          "output_type": "display_data",
          "data": {
            "image/png": "[encoded data removed]",
            "text/plain": [
              "<Figure size 864x504 with 2 Axes>"
            ]
          },
          "metadata": {
            "tags": []
          }
        }
      ]
    },
    {
      "cell_type": "code",
      "metadata": {
        "id": "b-V4-Ohxx4dF",
        "colab_type": "code",
        "colab": {
          "base_uri": "https://localhost:8080/",
          "height": 53
        },
        "outputId": "77f8d385-4669-458b-bb01-2e9127afb64d"
      },
      "source": [
        "#get all column from dataframe \n",
        "columns= data.columns.tolist()\n",
        "#filter the column we dnt need\n",
        "columns=[c for c in columns if c not in ['Class']]\n",
        "#store removed column\n",
        "target='Class'\n",
        "\n",
        "x=data[columns]\n",
        "y=data[target]\n",
        "\n",
        "print(x.shape)\n",
        "print(y.shape)\n"
      ],
      "execution_count": 33,
      "outputs": [
        {
          "output_type": "stream",
          "text": [
            "(663, 30)\n",
            "(663,)\n"
          ],
          "name": "stdout"
        }
      ]
    },
    {
      "cell_type": "code",
      "metadata": {
        "id": "VmEd8eoM9TOK",
        "colab_type": "code",
        "colab": {}
      },
      "source": [
        "from sklearn.metrics import classification_report,accuracy_score\n",
        "from sklearn.ensemble import IsolationForest\n",
        "from sklearn.neighbors import LocalOutlierFactor"
      ],
      "execution_count": 0,
      "outputs": []
    },
    {
      "cell_type": "code",
      "metadata": {
        "id": "kZd-ZTNA-4Zz",
        "colab_type": "code",
        "colab": {}
      },
      "source": [
        "#define random state \n",
        "state=1\n",
        "\n",
        "#define outlier detection method \n",
        "classifiers={'IsolationForest':IsolationForest(max_samples=len(x),\n",
        "                                               contamination=outlier_fration,\n",
        "                                               random_state=state),\n",
        "             'local outlier factor':LocalOutlierFactor(n_neighbors=20,contamination=outlier_fration)}"
      ],
      "execution_count": 0,
      "outputs": []
    },
    {
      "cell_type": "code",
      "metadata": {
        "id": "3kGq1BRcAtPv",
        "colab_type": "code",
        "colab": {
          "base_uri": "https://localhost:8080/",
          "height": 502
        },
        "outputId": "9e160724-6fc5-4b69-8f69-9be521937846"
      },
      "source": [
        "#fit the model\n",
        "n_outlier=len(fraud)\n",
        "for i, (clf_name,clf) in enumerate(classifiers.items()):\n",
        "\n",
        "  #fit the data and tag outlier\n",
        "  if clf_name== 'local outlier factor':\n",
        "\n",
        "    y_pred=clf.fit_predict(x)\n",
        "    scores_pred=clf.negative_outlier_factor_\n",
        "  else:\n",
        "\n",
        "      clf.fit(x)\n",
        "      score_pred= clf.decision_function(x)\n",
        "      y_pred=clf.predict(x)\n",
        "\n",
        "  #reshape pridication values to 0 for genuine, 1 for fraud\n",
        "  y_pred[y_pred==1]=0\n",
        "  y_pred[y_pred==-1]=1\n",
        "  n_errors=(y_pred !=y).sum()\n",
        "  #run classification matrix\n",
        "  print('{}:{}'.format(clf_name,n_errors))\n",
        "  print(accuracy_score(y,y_pred))\n",
        "  print(classification_report(y,y_pred))"
      ],
      "execution_count": 41,
      "outputs": [
        {
          "output_type": "stream",
          "text": [
            "/usr/local/lib/python3.6/dist-packages/sklearn/ensemble/iforest.py:247: FutureWarning: behaviour=\"old\" is deprecated and will be removed in version 0.22. Please use behaviour=\"new\", which makes the decision_function change to match other anomaly detection algorithm API.\n",
            "  FutureWarning)\n"
          ],
          "name": "stderr"
        },
        {
          "output_type": "stream",
          "text": [
            "IsolationForest:50\n",
            "0.9245852187028658\n",
            "              precision    recall  f1-score   support\n",
            "\n",
            "           0       0.96      0.96      0.96       637\n",
            "           1       0.07      0.08      0.07        26\n",
            "\n",
            "    accuracy                           0.92       663\n",
            "   macro avg       0.52      0.52      0.52       663\n",
            "weighted avg       0.93      0.92      0.93       663\n",
            "\n",
            "local outlier factor:54\n",
            "0.918552036199095\n",
            "              precision    recall  f1-score   support\n",
            "\n",
            "           0       0.96      0.96      0.96       637\n",
            "           1       0.00      0.00      0.00        26\n",
            "\n",
            "    accuracy                           0.92       663\n",
            "   macro avg       0.48      0.48      0.48       663\n",
            "weighted avg       0.92      0.92      0.92       663\n",
            "\n"
          ],
          "name": "stdout"
        },
        {
          "output_type": "stream",
          "text": [
            "/usr/local/lib/python3.6/dist-packages/sklearn/ensemble/iforest.py:415: DeprecationWarning: threshold_ attribute is deprecated in 0.20 and will be removed in 0.22.\n",
            "  \" be removed in 0.22.\", DeprecationWarning)\n"
          ],
          "name": "stderr"
        }
      ]
    },
    {
      "cell_type": "code",
      "metadata": {
        "id": "Eit-1oHAEDKL",
        "colab_type": "code",
        "colab": {}
      },
      "source": [
        ""
      ],
      "execution_count": 0,
      "outputs": []
    }
  ]
}